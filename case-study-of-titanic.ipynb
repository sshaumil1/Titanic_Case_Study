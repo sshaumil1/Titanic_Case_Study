{
 "cells": [
  {
   "cell_type": "code",
   "execution_count": 1,
   "id": "a9684051",
   "metadata": {
    "execution": {
     "iopub.execute_input": "2023-01-29T23:02:48.638150Z",
     "iopub.status.busy": "2023-01-29T23:02:48.637499Z",
     "iopub.status.idle": "2023-01-29T23:02:50.191606Z",
     "shell.execute_reply": "2023-01-29T23:02:50.190802Z"
    },
    "papermill": {
     "duration": 1.568997,
     "end_time": "2023-01-29T23:02:50.194100",
     "exception": false,
     "start_time": "2023-01-29T23:02:48.625103",
     "status": "completed"
    },
    "tags": []
   },
   "outputs": [],
   "source": [
    "import pandas as pd\n",
    "import numpy as np\n",
    "import seaborn as sns\n",
    "import matplotlib.pyplot as plt\n",
    "import warnings\n",
    "warnings.filterwarnings(\"ignore\")\n",
    "from sklearn.impute import KNNImputer\n",
    "from sklearn.preprocessing import OneHotEncoder\n",
    "from scipy.stats import mode\n",
    "from sklearn.model_selection import train_test_split, RandomizedSearchCV\n",
    "from sklearn.metrics import accuracy_score, classification_report\n",
    "from sklearn.linear_model import LogisticRegression\n",
    "from sklearn.neighbors import KNeighborsClassifier\n",
    "from sklearn.tree import DecisionTreeClassifier\n",
    "from sklearn.ensemble import RandomForestClassifier, AdaBoostClassifier\n",
    "from xgboost import XGBClassifier"
   ]
  },
  {
   "cell_type": "code",
   "execution_count": 2,
   "id": "390d605d",
   "metadata": {
    "execution": {
     "iopub.execute_input": "2023-01-29T23:02:50.219027Z",
     "iopub.status.busy": "2023-01-29T23:02:50.218100Z",
     "iopub.status.idle": "2023-01-29T23:02:50.265834Z",
     "shell.execute_reply": "2023-01-29T23:02:50.264747Z"
    },
    "papermill": {
     "duration": 0.063501,
     "end_time": "2023-01-29T23:02:50.268747",
     "exception": false,
     "start_time": "2023-01-29T23:02:50.205246",
     "status": "completed"
    },
    "tags": []
   },
   "outputs": [
    {
     "data": {
      "text/html": [
       "<div>\n",
       "<style scoped>\n",
       "    .dataframe tbody tr th:only-of-type {\n",
       "        vertical-align: middle;\n",
       "    }\n",
       "\n",
       "    .dataframe tbody tr th {\n",
       "        vertical-align: top;\n",
       "    }\n",
       "\n",
       "    .dataframe thead th {\n",
       "        text-align: right;\n",
       "    }\n",
       "</style>\n",
       "<table border=\"1\" class=\"dataframe\">\n",
       "  <thead>\n",
       "    <tr style=\"text-align: right;\">\n",
       "      <th></th>\n",
       "      <th>PassengerId</th>\n",
       "      <th>Survived</th>\n",
       "      <th>Pclass</th>\n",
       "      <th>Name</th>\n",
       "      <th>Sex</th>\n",
       "      <th>Age</th>\n",
       "      <th>SibSp</th>\n",
       "      <th>Parch</th>\n",
       "      <th>Ticket</th>\n",
       "      <th>Fare</th>\n",
       "      <th>Cabin</th>\n",
       "      <th>Embarked</th>\n",
       "    </tr>\n",
       "  </thead>\n",
       "  <tbody>\n",
       "    <tr>\n",
       "      <th>0</th>\n",
       "      <td>1</td>\n",
       "      <td>0</td>\n",
       "      <td>3</td>\n",
       "      <td>Braund, Mr. Owen Harris</td>\n",
       "      <td>male</td>\n",
       "      <td>22.0</td>\n",
       "      <td>1</td>\n",
       "      <td>0</td>\n",
       "      <td>A/5 21171</td>\n",
       "      <td>7.2500</td>\n",
       "      <td>NaN</td>\n",
       "      <td>S</td>\n",
       "    </tr>\n",
       "    <tr>\n",
       "      <th>1</th>\n",
       "      <td>2</td>\n",
       "      <td>1</td>\n",
       "      <td>1</td>\n",
       "      <td>Cumings, Mrs. John Bradley (Florence Briggs Th...</td>\n",
       "      <td>female</td>\n",
       "      <td>38.0</td>\n",
       "      <td>1</td>\n",
       "      <td>0</td>\n",
       "      <td>PC 17599</td>\n",
       "      <td>71.2833</td>\n",
       "      <td>C85</td>\n",
       "      <td>C</td>\n",
       "    </tr>\n",
       "    <tr>\n",
       "      <th>2</th>\n",
       "      <td>3</td>\n",
       "      <td>1</td>\n",
       "      <td>3</td>\n",
       "      <td>Heikkinen, Miss. Laina</td>\n",
       "      <td>female</td>\n",
       "      <td>26.0</td>\n",
       "      <td>0</td>\n",
       "      <td>0</td>\n",
       "      <td>STON/O2. 3101282</td>\n",
       "      <td>7.9250</td>\n",
       "      <td>NaN</td>\n",
       "      <td>S</td>\n",
       "    </tr>\n",
       "    <tr>\n",
       "      <th>3</th>\n",
       "      <td>4</td>\n",
       "      <td>1</td>\n",
       "      <td>1</td>\n",
       "      <td>Futrelle, Mrs. Jacques Heath (Lily May Peel)</td>\n",
       "      <td>female</td>\n",
       "      <td>35.0</td>\n",
       "      <td>1</td>\n",
       "      <td>0</td>\n",
       "      <td>113803</td>\n",
       "      <td>53.1000</td>\n",
       "      <td>C123</td>\n",
       "      <td>S</td>\n",
       "    </tr>\n",
       "    <tr>\n",
       "      <th>4</th>\n",
       "      <td>5</td>\n",
       "      <td>0</td>\n",
       "      <td>3</td>\n",
       "      <td>Allen, Mr. William Henry</td>\n",
       "      <td>male</td>\n",
       "      <td>35.0</td>\n",
       "      <td>0</td>\n",
       "      <td>0</td>\n",
       "      <td>373450</td>\n",
       "      <td>8.0500</td>\n",
       "      <td>NaN</td>\n",
       "      <td>S</td>\n",
       "    </tr>\n",
       "  </tbody>\n",
       "</table>\n",
       "</div>"
      ],
      "text/plain": [
       "   PassengerId  Survived  Pclass  \\\n",
       "0            1         0       3   \n",
       "1            2         1       1   \n",
       "2            3         1       3   \n",
       "3            4         1       1   \n",
       "4            5         0       3   \n",
       "\n",
       "                                                Name     Sex   Age  SibSp  \\\n",
       "0                            Braund, Mr. Owen Harris    male  22.0      1   \n",
       "1  Cumings, Mrs. John Bradley (Florence Briggs Th...  female  38.0      1   \n",
       "2                             Heikkinen, Miss. Laina  female  26.0      0   \n",
       "3       Futrelle, Mrs. Jacques Heath (Lily May Peel)  female  35.0      1   \n",
       "4                           Allen, Mr. William Henry    male  35.0      0   \n",
       "\n",
       "   Parch            Ticket     Fare Cabin Embarked  \n",
       "0      0         A/5 21171   7.2500   NaN        S  \n",
       "1      0          PC 17599  71.2833   C85        C  \n",
       "2      0  STON/O2. 3101282   7.9250   NaN        S  \n",
       "3      0            113803  53.1000  C123        S  \n",
       "4      0            373450   8.0500   NaN        S  "
      ]
     },
     "execution_count": 2,
     "metadata": {},
     "output_type": "execute_result"
    }
   ],
   "source": [
    "df = pd.read_csv(\"train.csv\")\n",
    "test_df = pd.read_csv(\"test.csv\")\n",
    "df.head(5)"
   ]
  },
  {
   "cell_type": "markdown",
   "id": "07f2abe6",
   "metadata": {
    "papermill": {
     "duration": 0.010768,
     "end_time": "2023-01-29T23:02:50.292268",
     "exception": false,
     "start_time": "2023-01-29T23:02:50.281500",
     "status": "completed"
    },
    "tags": []
   },
   "source": [
    "### Feature Information\n",
    "1. **PassengerId:** id of passenger\n",
    "2. **Survival:** 0 = No, 1 = Yes\n",
    "3. **pclass:** (Ticket class) \n",
    "   * 1 = 1st, 2 = 2nd, 3 = 3rd\n",
    "   * 1st = Upper / 2nd = Middle /3rd = Lower\n",
    "4. **Name:** name of the passanger\n",
    "5. **sex:** male/female\n",
    "6. **Age:** Age in years (Age is fractional if less than 1. If the age is estimated, is it in the form of xx.5)\n",
    "7. **sibsp:** # of siblings / spouses aboard the Titanic\n",
    "   \n",
    "   The dataset defines family relations in this way...\n",
    "   * Sibling = brother, sister, stepbrother, stepsister\n",
    "   * Spouse = husband, wife (mistresses and fiancés were ignored)\n",
    "8. **parch:** # of parents / children aboard the Titanic\n",
    "   \n",
    "   The dataset defines family relations in this way...\n",
    "   * Parent = mother, father\n",
    "   * Child = daughter, son, stepdaughter, stepson\n",
    "   * Some children travelled only with a nanny, therefore parch=0 for them.\n",
    "9. **ticket:** Ticket number\n",
    "10. **fare:** Passenger fare\n",
    "11. **cabin:** Cabin number\n",
    "12. **embarked:** Port of Embarkation\tC = Cherbourg, Q = Queenstown, S = Southampton"
   ]
  },
  {
   "cell_type": "markdown",
   "id": "22b795f9",
   "metadata": {
    "execution": {
     "iopub.execute_input": "2023-01-29T17:35:39.576958Z",
     "iopub.status.busy": "2023-01-29T17:35:39.576522Z",
     "iopub.status.idle": "2023-01-29T17:35:39.591360Z",
     "shell.execute_reply": "2023-01-29T17:35:39.590446Z",
     "shell.execute_reply.started": "2023-01-29T17:35:39.576924Z"
    },
    "papermill": {
     "duration": 0.011004,
     "end_time": "2023-01-29T23:02:50.314721",
     "exception": false,
     "start_time": "2023-01-29T23:02:50.303717",
     "status": "completed"
    },
    "tags": []
   },
   "source": [
    "# EDA"
   ]
  },
  {
   "cell_type": "code",
   "execution_count": 3,
   "id": "609bd667",
   "metadata": {
    "execution": {
     "iopub.execute_input": "2023-01-29T23:02:50.339490Z",
     "iopub.status.busy": "2023-01-29T23:02:50.338746Z",
     "iopub.status.idle": "2023-01-29T23:02:50.366922Z",
     "shell.execute_reply": "2023-01-29T23:02:50.365292Z"
    },
    "papermill": {
     "duration": 0.043011,
     "end_time": "2023-01-29T23:02:50.369141",
     "exception": false,
     "start_time": "2023-01-29T23:02:50.326130",
     "status": "completed"
    },
    "tags": []
   },
   "outputs": [
    {
     "name": "stdout",
     "output_type": "stream",
     "text": [
      "<class 'pandas.core.frame.DataFrame'>\n",
      "RangeIndex: 891 entries, 0 to 890\n",
      "Data columns (total 12 columns):\n",
      " #   Column       Non-Null Count  Dtype  \n",
      "---  ------       --------------  -----  \n",
      " 0   PassengerId  891 non-null    int64  \n",
      " 1   Survived     891 non-null    int64  \n",
      " 2   Pclass       891 non-null    int64  \n",
      " 3   Name         891 non-null    object \n",
      " 4   Sex          891 non-null    object \n",
      " 5   Age          714 non-null    float64\n",
      " 6   SibSp        891 non-null    int64  \n",
      " 7   Parch        891 non-null    int64  \n",
      " 8   Ticket       891 non-null    object \n",
      " 9   Fare         891 non-null    float64\n",
      " 10  Cabin        204 non-null    object \n",
      " 11  Embarked     889 non-null    object \n",
      "dtypes: float64(2), int64(5), object(5)\n",
      "memory usage: 83.7+ KB\n"
     ]
    }
   ],
   "source": [
    "df.info()"
   ]
  },
  {
   "cell_type": "markdown",
   "id": "2006f5fd",
   "metadata": {
    "papermill": {
     "duration": 0.011514,
     "end_time": "2023-01-29T23:02:50.392392",
     "exception": false,
     "start_time": "2023-01-29T23:02:50.380878",
     "status": "completed"
    },
    "tags": []
   },
   "source": [
    "So, we have 2 featues filled with float values, 5 integer features, 5 object features."
   ]
  },
  {
   "cell_type": "code",
   "execution_count": 4,
   "id": "59293061",
   "metadata": {
    "execution": {
     "iopub.execute_input": "2023-01-29T23:02:50.418881Z",
     "iopub.status.busy": "2023-01-29T23:02:50.418025Z",
     "iopub.status.idle": "2023-01-29T23:02:50.428157Z",
     "shell.execute_reply": "2023-01-29T23:02:50.427064Z"
    },
    "papermill": {
     "duration": 0.025578,
     "end_time": "2023-01-29T23:02:50.430338",
     "exception": false,
     "start_time": "2023-01-29T23:02:50.404760",
     "status": "completed"
    },
    "tags": []
   },
   "outputs": [
    {
     "data": {
      "text/plain": [
       "PassengerId      0\n",
       "Survived         0\n",
       "Pclass           0\n",
       "Name             0\n",
       "Sex              0\n",
       "Age            177\n",
       "SibSp            0\n",
       "Parch            0\n",
       "Ticket           0\n",
       "Fare             0\n",
       "Cabin          687\n",
       "Embarked         2\n",
       "dtype: int64"
      ]
     },
     "execution_count": 4,
     "metadata": {},
     "output_type": "execute_result"
    }
   ],
   "source": [
    "df.isna().sum()"
   ]
  },
  {
   "cell_type": "markdown",
   "id": "dfa741e3",
   "metadata": {
    "papermill": {
     "duration": 0.0112,
     "end_time": "2023-01-29T23:02:50.453045",
     "exception": false,
     "start_time": "2023-01-29T23:02:50.441845",
     "status": "completed"
    },
    "tags": []
   },
   "source": [
    "we have null values in 3 featues(Age, Cabin, Embarked)"
   ]
  },
  {
   "cell_type": "code",
   "execution_count": 5,
   "id": "bb2c9b26",
   "metadata": {
    "execution": {
     "iopub.execute_input": "2023-01-29T23:02:50.478412Z",
     "iopub.status.busy": "2023-01-29T23:02:50.477319Z",
     "iopub.status.idle": "2023-01-29T23:02:50.488493Z",
     "shell.execute_reply": "2023-01-29T23:02:50.487289Z"
    },
    "papermill": {
     "duration": 0.026135,
     "end_time": "2023-01-29T23:02:50.490781",
     "exception": false,
     "start_time": "2023-01-29T23:02:50.464646",
     "status": "completed"
    },
    "tags": []
   },
   "outputs": [
    {
     "data": {
      "text/plain": [
       "PassengerId      0\n",
       "Pclass           0\n",
       "Name             0\n",
       "Sex              0\n",
       "Age             86\n",
       "SibSp            0\n",
       "Parch            0\n",
       "Ticket           0\n",
       "Fare             1\n",
       "Cabin          327\n",
       "Embarked         0\n",
       "dtype: int64"
      ]
     },
     "execution_count": 5,
     "metadata": {},
     "output_type": "execute_result"
    }
   ],
   "source": [
    "test_df.isnull().sum()"
   ]
  },
  {
   "cell_type": "markdown",
   "id": "5b403770",
   "metadata": {
    "papermill": {
     "duration": 0.011706,
     "end_time": "2023-01-29T23:02:50.514261",
     "exception": false,
     "start_time": "2023-01-29T23:02:50.502555",
     "status": "completed"
    },
    "tags": []
   },
   "source": [
    "We also have null values in the testing data set. So, we have to impute them."
   ]
  },
  {
   "cell_type": "code",
   "execution_count": 6,
   "id": "9c26719c",
   "metadata": {
    "execution": {
     "iopub.execute_input": "2023-01-29T23:02:50.539627Z",
     "iopub.status.busy": "2023-01-29T23:02:50.538969Z",
     "iopub.status.idle": "2023-01-29T23:02:50.544880Z",
     "shell.execute_reply": "2023-01-29T23:02:50.543946Z"
    },
    "papermill": {
     "duration": 0.021411,
     "end_time": "2023-01-29T23:02:50.547326",
     "exception": false,
     "start_time": "2023-01-29T23:02:50.525915",
     "status": "completed"
    },
    "tags": []
   },
   "outputs": [],
   "source": [
    "# defining a function to check how much people are survived or non_survived\n",
    "def get_value_counts(data):\n",
    "    plt.figure(figsize = (15,5))\n",
    "    plot = sns.countplot(hue = df[\"Survived\"], x= df[data])\n",
    "    return plot"
   ]
  },
  {
   "cell_type": "code",
   "execution_count": 7,
   "id": "9c40f23d",
   "metadata": {
    "execution": {
     "iopub.execute_input": "2023-01-29T23:02:50.573484Z",
     "iopub.status.busy": "2023-01-29T23:02:50.573101Z",
     "iopub.status.idle": "2023-01-29T23:02:50.839846Z",
     "shell.execute_reply": "2023-01-29T23:02:50.838494Z"
    },
    "papermill": {
     "duration": 0.283105,
     "end_time": "2023-01-29T23:02:50.842634",
     "exception": false,
     "start_time": "2023-01-29T23:02:50.559529",
     "status": "completed"
    },
    "tags": []
   },
   "outputs": [
    {
     "data": {
      "text/plain": [
       "<AxesSubplot:xlabel='Pclass', ylabel='count'>"
      ]
     },
     "execution_count": 7,
     "metadata": {},
     "output_type": "execute_result"
    },
    {
     "data": {
      "image/png": "[encoded data removed]",
      "text/plain": [
       "<Figure size 1080x360 with 1 Axes>"
      ]
     },
     "metadata": {
      "needs_background": "light"
     },
     "output_type": "display_data"
    }
   ],
   "source": [
    "get_value_counts(\"Pclass\")"
   ]
  },
  {
   "cell_type": "markdown",
   "id": "01b93e31",
   "metadata": {
    "papermill": {
     "duration": 0.012407,
     "end_time": "2023-01-29T23:02:50.867465",
     "exception": false,
     "start_time": "2023-01-29T23:02:50.855058",
     "status": "completed"
    },
    "tags": []
   },
   "source": [
    "Here we can see, in passanger class 1 more people are survived. In class 2 the passanger survived and non_survived nearly equal. But the highest non-survived passangers are in class 3. "
   ]
  },
  {
   "cell_type": "code",
   "execution_count": 8,
   "id": "b1750df3",
   "metadata": {
    "execution": {
     "iopub.execute_input": "2023-01-29T23:02:50.894017Z",
     "iopub.status.busy": "2023-01-29T23:02:50.893536Z",
     "iopub.status.idle": "2023-01-29T23:02:51.101488Z",
     "shell.execute_reply": "2023-01-29T23:02:51.100138Z"
    },
    "papermill": {
     "duration": 0.224373,
     "end_time": "2023-01-29T23:02:51.104096",
     "exception": false,
     "start_time": "2023-01-29T23:02:50.879723",
     "status": "completed"
    },
    "tags": []
   },
   "outputs": [
    {
     "data": {
      "text/plain": [
       "<AxesSubplot:xlabel='Sex', ylabel='count'>"
      ]
     },
     "execution_count": 8,
     "metadata": {},
     "output_type": "execute_result"
    },
    {
     "data": {
      "image/png": "[encoded data removed]",
      "text/plain": [
       "<Figure size 1080x360 with 1 Axes>"
      ]
     },
     "metadata": {
      "needs_background": "light"
     },
     "output_type": "display_data"
    }
   ],
   "source": [
    "get_value_counts(\"Sex\")"
   ]
  },
  {
   "cell_type": "markdown",
   "id": "5d5b28a4",
   "metadata": {
    "papermill": {
     "duration": 0.012818,
     "end_time": "2023-01-29T23:02:51.129987",
     "exception": false,
     "start_time": "2023-01-29T23:02:51.117169",
     "status": "completed"
    },
    "tags": []
   },
   "source": [
    "In this figure we can clearly see the death rate of male are much higher than female. Most of the female are survived. "
   ]
  },
  {
   "cell_type": "code",
   "execution_count": 9,
   "id": "9d28c5b7",
   "metadata": {
    "execution": {
     "iopub.execute_input": "2023-01-29T23:02:51.156821Z",
     "iopub.status.busy": "2023-01-29T23:02:51.156367Z",
     "iopub.status.idle": "2023-01-29T23:02:51.538829Z",
     "shell.execute_reply": "2023-01-29T23:02:51.537839Z"
    },
    "papermill": {
     "duration": 0.398636,
     "end_time": "2023-01-29T23:02:51.541512",
     "exception": false,
     "start_time": "2023-01-29T23:02:51.142876",
     "status": "completed"
    },
    "tags": []
   },
   "outputs": [
    {
     "data": {
      "image/png": "[encoded data removed]",
      "text/plain": [
       "<Figure size 1080x360 with 1 Axes>"
      ]
     },
     "metadata": {
      "needs_background": "light"
     },
     "output_type": "display_data"
    }
   ],
   "source": [
    "plt.figure(figsize = (15,5))\n",
    "sns.barplot(df[\"Survived\"],df[\"Age\"],hue = df[\"Pclass\"])\n",
    "plt.show()"
   ]
  },
  {
   "cell_type": "code",
   "execution_count": 10,
   "id": "7dd02439",
   "metadata": {
    "execution": {
     "iopub.execute_input": "2023-01-29T23:02:51.569644Z",
     "iopub.status.busy": "2023-01-29T23:02:51.568936Z",
     "iopub.status.idle": "2023-01-29T23:02:51.834988Z",
     "shell.execute_reply": "2023-01-29T23:02:51.833738Z"
    },
    "papermill": {
     "duration": 0.282968,
     "end_time": "2023-01-29T23:02:51.837422",
     "exception": false,
     "start_time": "2023-01-29T23:02:51.554454",
     "status": "completed"
    },
    "tags": []
   },
   "outputs": [
    {
     "data": {
      "text/plain": [
       "<AxesSubplot:xlabel='SibSp', ylabel='count'>"
      ]
     },
     "execution_count": 10,
     "metadata": {},
     "output_type": "execute_result"
    },
    {
     "data": {
      "image/png": "[encoded data removed]",
      "text/plain": [
       "<Figure size 1080x360 with 1 Axes>"
      ]
     },
     "metadata": {
      "needs_background": "light"
     },
     "output_type": "display_data"
    }
   ],
   "source": [
    "get_value_counts(\"SibSp\")"
   ]
  },
  {
   "cell_type": "markdown",
   "id": "7824c98d",
   "metadata": {
    "papermill": {
     "duration": 0.012652,
     "end_time": "2023-01-29T23:02:51.863136",
     "exception": false,
     "start_time": "2023-01-29T23:02:51.850484",
     "status": "completed"
    },
    "tags": []
   },
   "source": [
    "people who are travelling alone are highest non_survival. and who has one sibling are survived more then non survived. "
   ]
  },
  {
   "cell_type": "code",
   "execution_count": 11,
   "id": "c3e6b18b",
   "metadata": {
    "execution": {
     "iopub.execute_input": "2023-01-29T23:02:51.891863Z",
     "iopub.status.busy": "2023-01-29T23:02:51.890932Z",
     "iopub.status.idle": "2023-01-29T23:02:52.142600Z",
     "shell.execute_reply": "2023-01-29T23:02:52.141447Z"
    },
    "papermill": {
     "duration": 0.268826,
     "end_time": "2023-01-29T23:02:52.144891",
     "exception": false,
     "start_time": "2023-01-29T23:02:51.876065",
     "status": "completed"
    },
    "tags": []
   },
   "outputs": [
    {
     "data": {
      "text/plain": [
       "<AxesSubplot:xlabel='Parch', ylabel='count'>"
      ]
     },
     "execution_count": 11,
     "metadata": {},
     "output_type": "execute_result"
    },
    {
     "data": {
      "image/png": "[encoded data removed]",
      "text/plain": [
       "<Figure size 1080x360 with 1 Axes>"
      ]
     },
     "metadata": {
      "needs_background": "light"
     },
     "output_type": "display_data"
    }
   ],
   "source": [
    "get_value_counts(\"Parch\")"
   ]
  },
  {
   "cell_type": "markdown",
   "id": "202da968",
   "metadata": {
    "papermill": {
     "duration": 0.013222,
     "end_time": "2023-01-29T23:02:52.171203",
     "exception": false,
     "start_time": "2023-01-29T23:02:52.157981",
     "status": "completed"
    },
    "tags": []
   },
   "source": [
    "children who are traveling only with a nanny are the most non_suvived. "
   ]
  },
  {
   "cell_type": "code",
   "execution_count": 12,
   "id": "75e08150",
   "metadata": {
    "execution": {
     "iopub.execute_input": "2023-01-29T23:02:52.200274Z",
     "iopub.status.busy": "2023-01-29T23:02:52.199197Z",
     "iopub.status.idle": "2023-01-29T23:02:52.426899Z",
     "shell.execute_reply": "2023-01-29T23:02:52.425591Z"
    },
    "papermill": {
     "duration": 0.244516,
     "end_time": "2023-01-29T23:02:52.429281",
     "exception": false,
     "start_time": "2023-01-29T23:02:52.184765",
     "status": "completed"
    },
    "tags": []
   },
   "outputs": [
    {
     "data": {
      "text/plain": [
       "<AxesSubplot:xlabel='Embarked', ylabel='count'>"
      ]
     },
     "execution_count": 12,
     "metadata": {},
     "output_type": "execute_result"
    },
    {
     "data": {
      "image/png": "[encoded data removed]",
      "text/plain": [
       "<Figure size 1080x360 with 1 Axes>"
      ]
     },
     "metadata": {
      "needs_background": "light"
     },
     "output_type": "display_data"
    }
   ],
   "source": [
    "get_value_counts(\"Embarked\")"
   ]
  },
  {
   "cell_type": "markdown",
   "id": "7db6d08a",
   "metadata": {
    "papermill": {
     "duration": 0.013271,
     "end_time": "2023-01-29T23:02:52.456451",
     "exception": false,
     "start_time": "2023-01-29T23:02:52.443180",
     "status": "completed"
    },
    "tags": []
   },
   "source": [
    "Here we can see Port of Embarkation Cherbourg has higer survival rate. Queenstown, Southampton has high  non_survival rate."
   ]
  },
  {
   "cell_type": "code",
   "execution_count": 13,
   "id": "ac09e1d7",
   "metadata": {
    "execution": {
     "iopub.execute_input": "2023-01-29T23:02:52.485419Z",
     "iopub.status.busy": "2023-01-29T23:02:52.485055Z",
     "iopub.status.idle": "2023-01-29T23:02:52.791823Z",
     "shell.execute_reply": "2023-01-29T23:02:52.790798Z"
    },
    "papermill": {
     "duration": 0.324326,
     "end_time": "2023-01-29T23:02:52.794466",
     "exception": false,
     "start_time": "2023-01-29T23:02:52.470140",
     "status": "completed"
    },
    "tags": []
   },
   "outputs": [
    {
     "data": {
      "text/plain": [
       "<AxesSubplot:>"
      ]
     },
     "execution_count": 13,
     "metadata": {},
     "output_type": "execute_result"
    },
    {
     "data": {
      "image/png": "[encoded data removed]",
      "text/plain": [
       "<Figure size 1080x360 with 1 Axes>"
      ]
     },
     "metadata": {
      "needs_background": "light"
     },
     "output_type": "display_data"
    }
   ],
   "source": [
    "df1 = df\n",
    "for i in (df1,):\n",
    "    i[\"Cabin\"] = i[\"Cabin\"].str[0:1]\n",
    "pcl1 = df1[df1[\"Pclass\"]==1][\"Cabin\"].value_counts()\n",
    "pcl2 = df1[df1[\"Pclass\"]==2][\"Cabin\"].value_counts()\n",
    "pcl3 = df1[df1[\"Pclass\"]==3][\"Cabin\"].value_counts()\n",
    "_temp = pd.DataFrame([pcl1,pcl2,pcl3],index = [\"1st class\",\"2nd class\",\"3rd class\"])\n",
    "_temp.plot(kind=\"bar\",stacked = True, figsize=(15,5))"
   ]
  },
  {
   "cell_type": "markdown",
   "id": "837812de",
   "metadata": {
    "papermill": {
     "duration": 0.013862,
     "end_time": "2023-01-29T23:02:52.822739",
     "exception": false,
     "start_time": "2023-01-29T23:02:52.808877",
     "status": "completed"
    },
    "tags": []
   },
   "source": [
    "Here we can see the most of the 1st class passangers are in A cabin then E cabin. And 2nd class passengers are in f cabin. G cabin have the 3rd class passsangers"
   ]
  },
  {
   "cell_type": "code",
   "execution_count": 14,
   "id": "6afdf6f8",
   "metadata": {
    "execution": {
     "iopub.execute_input": "2023-01-29T23:02:52.854001Z",
     "iopub.status.busy": "2023-01-29T23:02:52.853237Z",
     "iopub.status.idle": "2023-01-29T23:02:53.125906Z",
     "shell.execute_reply": "2023-01-29T23:02:53.124989Z"
    },
    "papermill": {
     "duration": 0.290937,
     "end_time": "2023-01-29T23:02:53.128156",
     "exception": false,
     "start_time": "2023-01-29T23:02:52.837219",
     "status": "completed"
    },
    "tags": []
   },
   "outputs": [
    {
     "data": {
      "image/png": "[encoded data removed]",
      "text/plain": [
       "<Figure size 1080x360 with 1 Axes>"
      ]
     },
     "metadata": {
      "needs_background": "light"
     },
     "output_type": "display_data"
    }
   ],
   "source": [
    "plt.figure(figsize = (15,5))\n",
    "sns.countplot(df1[\"Cabin\"], hue = df1[\"Survived\"])\n",
    "plt.show()"
   ]
  },
  {
   "cell_type": "markdown",
   "id": "b2787781",
   "metadata": {
    "papermill": {
     "duration": 0.014199,
     "end_time": "2023-01-29T23:02:53.156683",
     "exception": false,
     "start_time": "2023-01-29T23:02:53.142484",
     "status": "completed"
    },
    "tags": []
   },
   "source": [
    "Here we can see the A cabin passangers are higest survived and B cabin passangers are the highest non_survived. "
   ]
  },
  {
   "cell_type": "code",
   "execution_count": 15,
   "id": "32a21e6e",
   "metadata": {
    "execution": {
     "iopub.execute_input": "2023-01-29T23:02:53.187276Z",
     "iopub.status.busy": "2023-01-29T23:02:53.186526Z",
     "iopub.status.idle": "2023-01-29T23:02:53.422536Z",
     "shell.execute_reply": "2023-01-29T23:02:53.421340Z"
    },
    "papermill": {
     "duration": 0.254226,
     "end_time": "2023-01-29T23:02:53.425196",
     "exception": false,
     "start_time": "2023-01-29T23:02:53.170970",
     "status": "completed"
    },
    "tags": []
   },
   "outputs": [
    {
     "data": {
      "image/png": "[encoded data removed]",
      "text/plain": [
       "<Figure size 1080x360 with 1 Axes>"
      ]
     },
     "metadata": {
      "needs_background": "light"
     },
     "output_type": "display_data"
    }
   ],
   "source": [
    "_temp = df.copy()\n",
    "label = [\"children\",\"teenager\",\"young\",\"mid-age\",\"old\"]\n",
    "bin1 = [0,12,19,40,60,90]\n",
    "_temp[\"Age\"] = pd.cut(x = _temp[\"Age\"], bins = bin1, labels = label)\n",
    "plt.figure(figsize = (15,5))\n",
    "sns.countplot(_temp[\"Age\"], hue = _temp[\"Survived\"])\n",
    "plt.show()"
   ]
  },
  {
   "cell_type": "markdown",
   "id": "9b332e43",
   "metadata": {
    "papermill": {
     "duration": 0.014038,
     "end_time": "2023-01-29T23:02:53.453787",
     "exception": false,
     "start_time": "2023-01-29T23:02:53.439749",
     "status": "completed"
    },
    "tags": []
   },
   "source": [
    "here we can see that children has high survived rate. Most of the passangers are in their young age and died. "
   ]
  },
  {
   "cell_type": "markdown",
   "id": "e678eab7",
   "metadata": {
    "papermill": {
     "duration": 0.013571,
     "end_time": "2023-01-29T23:02:53.481499",
     "exception": false,
     "start_time": "2023-01-29T23:02:53.467928",
     "status": "completed"
    },
    "tags": []
   },
   "source": [
    "# Feature Engineering"
   ]
  },
  {
   "cell_type": "code",
   "execution_count": 16,
   "id": "4484a15f",
   "metadata": {
    "execution": {
     "iopub.execute_input": "2023-01-29T23:02:53.511956Z",
     "iopub.status.busy": "2023-01-29T23:02:53.511516Z",
     "iopub.status.idle": "2023-01-29T23:02:53.516966Z",
     "shell.execute_reply": "2023-01-29T23:02:53.516071Z"
    },
    "papermill": {
     "duration": 0.023286,
     "end_time": "2023-01-29T23:02:53.518975",
     "exception": false,
     "start_time": "2023-01-29T23:02:53.495689",
     "status": "completed"
    },
    "tags": []
   },
   "outputs": [],
   "source": [
    "df_te = df.copy()\n",
    "df_tr = test_df.copy()"
   ]
  },
  {
   "cell_type": "markdown",
   "id": "98583792",
   "metadata": {
    "execution": {
     "iopub.execute_input": "2023-01-29T20:42:00.954019Z",
     "iopub.status.busy": "2023-01-29T20:42:00.953646Z",
     "iopub.status.idle": "2023-01-29T20:42:00.961283Z",
     "shell.execute_reply": "2023-01-29T20:42:00.959733Z",
     "shell.execute_reply.started": "2023-01-29T20:42:00.953989Z"
    },
    "papermill": {
     "duration": 0.01386,
     "end_time": "2023-01-29T23:02:53.548143",
     "exception": false,
     "start_time": "2023-01-29T23:02:53.534283",
     "status": "completed"
    },
    "tags": []
   },
   "source": [
    "**first we will drop the irrelevant features.**\n",
    "* passegerid has all unique values. \n",
    "* fare has no information regarding survived as we already has p class.\n",
    "* name has no effect on survival \n",
    "* ticket is not taking part in defining survival\n",
    "* cabin is also highly co rellated with p class"
   ]
  },
  {
   "cell_type": "code",
   "execution_count": 17,
   "id": "d4c1e523",
   "metadata": {
    "execution": {
     "iopub.execute_input": "2023-01-29T23:02:53.578704Z",
     "iopub.status.busy": "2023-01-29T23:02:53.577918Z",
     "iopub.status.idle": "2023-01-29T23:02:53.591756Z",
     "shell.execute_reply": "2023-01-29T23:02:53.590877Z"
    },
    "papermill": {
     "duration": 0.031775,
     "end_time": "2023-01-29T23:02:53.593792",
     "exception": false,
     "start_time": "2023-01-29T23:02:53.562017",
     "status": "completed"
    },
    "tags": []
   },
   "outputs": [
    {
     "data": {
      "text/html": [
       "<div>\n",
       "<style scoped>\n",
       "    .dataframe tbody tr th:only-of-type {\n",
       "        vertical-align: middle;\n",
       "    }\n",
       "\n",
       "    .dataframe tbody tr th {\n",
       "        vertical-align: top;\n",
       "    }\n",
       "\n",
       "    .dataframe thead th {\n",
       "        text-align: right;\n",
       "    }\n",
       "</style>\n",
       "<table border=\"1\" class=\"dataframe\">\n",
       "  <thead>\n",
       "    <tr style=\"text-align: right;\">\n",
       "      <th></th>\n",
       "      <th>Survived</th>\n",
       "      <th>Pclass</th>\n",
       "      <th>Sex</th>\n",
       "      <th>Age</th>\n",
       "      <th>SibSp</th>\n",
       "      <th>Parch</th>\n",
       "      <th>Embarked</th>\n",
       "    </tr>\n",
       "  </thead>\n",
       "  <tbody>\n",
       "    <tr>\n",
       "      <th>0</th>\n",
       "      <td>0</td>\n",
       "      <td>3</td>\n",
       "      <td>male</td>\n",
       "      <td>22.0</td>\n",
       "      <td>1</td>\n",
       "      <td>0</td>\n",
       "      <td>S</td>\n",
       "    </tr>\n",
       "  </tbody>\n",
       "</table>\n",
       "</div>"
      ],
      "text/plain": [
       "   Survived  Pclass   Sex   Age  SibSp  Parch Embarked\n",
       "0         0       3  male  22.0      1      0        S"
      ]
     },
     "execution_count": 17,
     "metadata": {},
     "output_type": "execute_result"
    }
   ],
   "source": [
    "df.drop([\"PassengerId\", \"Fare\", \"Name\", \"Ticket\",\"Cabin\",],axis = 1,inplace = True)\n",
    "test_df.drop([\"PassengerId\", \"Fare\", \"Name\", \"Ticket\",\"Cabin\",],axis = 1, inplace = True)\n",
    "df.head(1)"
   ]
  },
  {
   "cell_type": "markdown",
   "id": "6a258df2",
   "metadata": {
    "papermill": {
     "duration": 0.013955,
     "end_time": "2023-01-29T23:02:53.622467",
     "exception": false,
     "start_time": "2023-01-29T23:02:53.608512",
     "status": "completed"
    },
    "tags": []
   },
   "source": [
    "**Changing Age Feature into Categorical Feature**"
   ]
  },
  {
   "cell_type": "code",
   "execution_count": 18,
   "id": "398b9eaf",
   "metadata": {
    "execution": {
     "iopub.execute_input": "2023-01-29T23:02:53.653348Z",
     "iopub.status.busy": "2023-01-29T23:02:53.652558Z",
     "iopub.status.idle": "2023-01-29T23:02:53.669309Z",
     "shell.execute_reply": "2023-01-29T23:02:53.668465Z"
    },
    "papermill": {
     "duration": 0.034487,
     "end_time": "2023-01-29T23:02:53.671326",
     "exception": false,
     "start_time": "2023-01-29T23:02:53.636839",
     "status": "completed"
    },
    "tags": []
   },
   "outputs": [
    {
     "data": {
      "text/html": [
       "<div>\n",
       "<style scoped>\n",
       "    .dataframe tbody tr th:only-of-type {\n",
       "        vertical-align: middle;\n",
       "    }\n",
       "\n",
       "    .dataframe tbody tr th {\n",
       "        vertical-align: top;\n",
       "    }\n",
       "\n",
       "    .dataframe thead th {\n",
       "        text-align: right;\n",
       "    }\n",
       "</style>\n",
       "<table border=\"1\" class=\"dataframe\">\n",
       "  <thead>\n",
       "    <tr style=\"text-align: right;\">\n",
       "      <th></th>\n",
       "      <th>Pclass</th>\n",
       "      <th>Sex</th>\n",
       "      <th>Age</th>\n",
       "      <th>SibSp</th>\n",
       "      <th>Parch</th>\n",
       "      <th>Embarked</th>\n",
       "    </tr>\n",
       "  </thead>\n",
       "  <tbody>\n",
       "    <tr>\n",
       "      <th>0</th>\n",
       "      <td>3</td>\n",
       "      <td>male</td>\n",
       "      <td>young</td>\n",
       "      <td>0</td>\n",
       "      <td>0</td>\n",
       "      <td>Q</td>\n",
       "    </tr>\n",
       "  </tbody>\n",
       "</table>\n",
       "</div>"
      ],
      "text/plain": [
       "   Pclass   Sex    Age  SibSp  Parch Embarked\n",
       "0       3  male  young      0      0        Q"
      ]
     },
     "execution_count": 18,
     "metadata": {},
     "output_type": "execute_result"
    }
   ],
   "source": [
    "label = [\"children\",\"teenager\",\"young\",\"mid-age\",\"old\"]\n",
    "bin1 = [0,12,19,40,60,90]\n",
    "df[\"Age\"] = pd.cut(x = df[\"Age\"], bins = bin1, labels = label) # on training data\n",
    "test_df[\"Age\"] = pd.cut(x = test_df[\"Age\"], bins = bin1, labels = label) # on testing data\n",
    "test_df.head(1)"
   ]
  },
  {
   "cell_type": "markdown",
   "id": "3c287609",
   "metadata": {
    "papermill": {
     "duration": 0.013909,
     "end_time": "2023-01-29T23:02:53.699416",
     "exception": false,
     "start_time": "2023-01-29T23:02:53.685507",
     "status": "completed"
    },
    "tags": []
   },
   "source": [
    "**Handling the missing value**\n",
    "\n",
    "**We will use mode for categorical featue**"
   ]
  },
  {
   "cell_type": "code",
   "execution_count": 19,
   "id": "3a12dfdd",
   "metadata": {
    "execution": {
     "iopub.execute_input": "2023-01-29T23:02:53.730315Z",
     "iopub.status.busy": "2023-01-29T23:02:53.729317Z",
     "iopub.status.idle": "2023-01-29T23:02:53.738839Z",
     "shell.execute_reply": "2023-01-29T23:02:53.737919Z"
    },
    "papermill": {
     "duration": 0.027295,
     "end_time": "2023-01-29T23:02:53.741005",
     "exception": false,
     "start_time": "2023-01-29T23:02:53.713710",
     "status": "completed"
    },
    "tags": []
   },
   "outputs": [],
   "source": [
    "df[\"Age\"].fillna(mode(df[\"Age\"])[0][0], inplace = True)\n",
    "df[\"Embarked\"].fillna(mode(df[\"Embarked\"])[0][0], inplace = True)\n",
    "\n",
    "# filling missing values in testing dataset\n",
    "test_df[\"Age\"].fillna(mode(test_df[\"Age\"])[0][0], inplace = True)"
   ]
  },
  {
   "cell_type": "markdown",
   "id": "6dbbfa27",
   "metadata": {
    "papermill": {
     "duration": 0.013743,
     "end_time": "2023-01-29T23:02:53.768987",
     "exception": false,
     "start_time": "2023-01-29T23:02:53.755244",
     "status": "completed"
    },
    "tags": []
   },
   "source": [
    "**Encoding of the features**\n",
    "* we will use replace function for ordinal data \n",
    "* we will use onhot encoder for nominal data"
   ]
  },
  {
   "cell_type": "code",
   "execution_count": 44,
   "id": "fa36630c",
   "metadata": {
    "execution": {
     "iopub.execute_input": "2023-01-29T23:02:53.799802Z",
     "iopub.status.busy": "2023-01-29T23:02:53.799372Z",
     "iopub.status.idle": "2023-01-29T23:02:53.811978Z",
     "shell.execute_reply": "2023-01-29T23:02:53.810959Z"
    },
    "papermill": {
     "duration": 0.031361,
     "end_time": "2023-01-29T23:02:53.814619",
     "exception": false,
     "start_time": "2023-01-29T23:02:53.783258",
     "status": "completed"
    },
    "tags": []
   },
   "outputs": [],
   "source": [
    "# using replace function for ordinal data\n",
    "df.replace({\"children\":0,\"teenager\":1,\"young\":2,\n",
    "            \"mid-age\":3,\"old\":4},inplace = True) # on training data\n",
    "test_df.replace({\"children\":0,\"teenager\":1,\n",
    "                 \"young\":2,\"mid-age\":3,\"old\":4},inplace = True) # on testing data\n",
    "df[\"Age\"] = df[\"Age\"].astype(int) # making data in integer\n",
    "test_df[\"Age\"] = test_df[\"Age\"].astype(int)"
   ]
  },
  {
   "cell_type": "code",
   "execution_count": null,
   "id": "05d2b3e0",
   "metadata": {},
   "outputs": [],
   "source": [
    "# using one-hot encoder for nominal data\n",
    "ohe = OneHotEncoder()\n",
    "df[list(df[\"Sex\"].unique())] = ohe.fit_transform(df[[\"Sex\"]]).A\n",
    "df[list(df[\"Embarked\"].unique())] = ohe.fit_transform(df[[\"Embarked\"]]).A\n",
    "#using on testing data\n",
    "test_df[list(test_df[\"Sex\"].unique())] = ohe.fit_transform(test_df[[\"Sex\"]]).A\n",
    "test_df[list(test_df[\"Embarked\"].unique())] = ohe.fit_transform(test_df[[\"Embarked\"]]).A"
   ]
  },
  {
   "cell_type": "code",
   "execution_count": null,
   "id": "02e62003",
   "metadata": {},
   "outputs": [],
   "source": [
    "df.drop([\"Sex\",\"Embarked\"],axis = 1, inplace = True)\n",
    "test_df.drop([\"Sex\",\"Embarked\"],axis = 1, inplace = True)"
   ]
  },
  {
   "cell_type": "markdown",
   "id": "07bbb504",
   "metadata": {
    "execution": {
     "iopub.execute_input": "2023-01-29T21:52:43.400939Z",
     "iopub.status.busy": "2023-01-29T21:52:43.400557Z",
     "iopub.status.idle": "2023-01-29T21:52:43.417363Z",
     "shell.execute_reply": "2023-01-29T21:52:43.416083Z",
     "shell.execute_reply.started": "2023-01-29T21:52:43.400903Z"
    },
    "papermill": {
     "duration": 0.014222,
     "end_time": "2023-01-29T23:02:53.936484",
     "exception": false,
     "start_time": "2023-01-29T23:02:53.922262",
     "status": "completed"
    },
    "tags": []
   },
   "source": [
    "# Model Selection and Training "
   ]
  },
  {
   "cell_type": "code",
   "execution_count": 49,
   "id": "b90062f6",
   "metadata": {
    "execution": {
     "iopub.execute_input": "2023-01-29T23:02:53.967318Z",
     "iopub.status.busy": "2023-01-29T23:02:53.966880Z",
     "iopub.status.idle": "2023-01-29T23:02:53.976114Z",
     "shell.execute_reply": "2023-01-29T23:02:53.975239Z"
    },
    "papermill": {
     "duration": 0.027413,
     "end_time": "2023-01-29T23:02:53.978448",
     "exception": false,
     "start_time": "2023-01-29T23:02:53.951035",
     "status": "completed"
    },
    "tags": []
   },
   "outputs": [],
   "source": [
    "x = df.drop(\"Survived\",axis = 1)\n",
    "y = df[\"Survived\"]\n",
    "x_train,x_test,y_train,y_test = train_test_split(x,y,test_size=0.2, random_state=42,stratify=y)"
   ]
  },
  {
   "cell_type": "code",
   "execution_count": 50,
   "id": "053ac323",
   "metadata": {
    "execution": {
     "iopub.execute_input": "2023-01-29T23:02:54.009790Z",
     "iopub.status.busy": "2023-01-29T23:02:54.009147Z",
     "iopub.status.idle": "2023-01-29T23:02:54.705632Z",
     "shell.execute_reply": "2023-01-29T23:02:54.704530Z"
    },
    "papermill": {
     "duration": 0.715357,
     "end_time": "2023-01-29T23:02:54.708521",
     "exception": false,
     "start_time": "2023-01-29T23:02:53.993164",
     "status": "completed"
    },
    "tags": []
   },
   "outputs": [
    {
     "name": "stdout",
     "output_type": "stream",
     "text": [
      "For LogisticRegression::\n",
      "The Training Accuracy is: 0.8117977528089888\n",
      "The Testing Accuracy is: 0.7877094972067039\n",
      "--------------------------------------------------------------------------------\n",
      "For KNN Classifier::\n",
      "The Training Accuracy is: 0.8286516853932584\n",
      "The Testing Accuracy is: 0.8156424581005587\n",
      "--------------------------------------------------------------------------------\n",
      "For Decision Tree::\n",
      "The Training Accuracy is: 0.8721910112359551\n",
      "The Testing Accuracy is: 0.7877094972067039\n",
      "--------------------------------------------------------------------------------\n",
      "For RandomForest::\n",
      "The Training Accuracy is: 0.8721910112359551\n",
      "The Testing Accuracy is: 0.7988826815642458\n",
      "--------------------------------------------------------------------------------\n",
      "For AdaBoost::\n",
      "The Training Accuracy is: 0.8132022471910112\n",
      "The Testing Accuracy is: 0.7932960893854749\n",
      "--------------------------------------------------------------------------------\n",
      "For XGBoost::\n",
      "The Training Accuracy is: 0.8707865168539326\n",
      "The Testing Accuracy is: 0.7988826815642458\n",
      "--------------------------------------------------------------------------------\n"
     ]
    }
   ],
   "source": [
    "lst = [(\"LogisticRegression\",LogisticRegression()),\n",
    "       (\"KNN Classifier\", KNeighborsClassifier()),\n",
    "       (\"Decision Tree\",DecisionTreeClassifier()),\n",
    "       (\"RandomForest\",RandomForestClassifier()),\n",
    "      (\"AdaBoost\",AdaBoostClassifier()),\n",
    "      (\"XGBoost\",XGBClassifier())]\n",
    "for name,model in lst:\n",
    "    model.fit(x_train,y_train)\n",
    "    y1 = model.predict(x_train)\n",
    "    accuracy = accuracy_score(y_train,y1)\n",
    "    y2 = model.predict(x_test)\n",
    "    acc_te = accuracy_score(y_test,y2)\n",
    "    print(f\"For {name}::\\nThe Training Accuracy is: {accuracy}\\nThe Testing Accuracy is: {acc_te}\")\n",
    "    print(\"--\"*40)"
   ]
  },
  {
   "cell_type": "markdown",
   "id": "6b372bac",
   "metadata": {
    "papermill": {
     "duration": 0.014112,
     "end_time": "2023-01-29T23:02:54.741223",
     "exception": false,
     "start_time": "2023-01-29T23:02:54.727111",
     "status": "completed"
    },
    "tags": []
   },
   "source": [
    "As we can see the Random forest and The XGBoost has good accuracy. So, we will go with the XGBoost as it has auto pruning concept"
   ]
  },
  {
   "cell_type": "markdown",
   "id": "fbddb7c0",
   "metadata": {
    "execution": {
     "iopub.execute_input": "2023-01-29T22:38:09.372406Z",
     "iopub.status.busy": "2023-01-29T22:38:09.372003Z",
     "iopub.status.idle": "2023-01-29T22:38:09.380772Z",
     "shell.execute_reply": "2023-01-29T22:38:09.378684Z",
     "shell.execute_reply.started": "2023-01-29T22:38:09.372378Z"
    },
    "papermill": {
     "duration": 0.014178,
     "end_time": "2023-01-29T23:02:54.769962",
     "exception": false,
     "start_time": "2023-01-29T23:02:54.755784",
     "status": "completed"
    },
    "tags": []
   },
   "source": [
    "**optimising the model by hyperparameter tuning**"
   ]
  },
  {
   "cell_type": "code",
   "execution_count": 51,
   "id": "8f875588",
   "metadata": {
    "execution": {
     "iopub.execute_input": "2023-01-29T23:02:54.801358Z",
     "iopub.status.busy": "2023-01-29T23:02:54.800962Z",
     "iopub.status.idle": "2023-01-29T23:03:09.869694Z",
     "shell.execute_reply": "2023-01-29T23:03:09.868802Z"
    },
    "papermill": {
     "duration": 15.087717,
     "end_time": "2023-01-29T23:03:09.872474",
     "exception": false,
     "start_time": "2023-01-29T23:02:54.784757",
     "status": "completed"
    },
    "tags": []
   },
   "outputs": [
    {
     "data": {
      "text/html": [
       "<style>#sk-container-id-3 {color: black;background-color: white;}#sk-container-id-3 pre{padding: 0;}#sk-container-id-3 div.sk-toggleable {background-color: white;}#sk-container-id-3 label.sk-toggleable__label {cursor: pointer;display: block;width: 100%;margin-bottom: 0;padding: 0.3em;box-sizing: border-box;text-align: center;}#sk-container-id-3 label.sk-toggleable__label-arrow:before {content: \"▸\";float: left;margin-right: 0.25em;color: #696969;}#sk-container-id-3 label.sk-toggleable__label-arrow:hover:before {color: black;}#sk-container-id-3 div.sk-estimator:hover label.sk-toggleable__label-arrow:before {color: black;}#sk-container-id-3 div.sk-toggleable__content {max-height: 0;max-width: 0;overflow: hidden;text-align: left;background-color: #f0f8ff;}#sk-container-id-3 div.sk-toggleable__content pre {margin: 0.2em;color: black;border-radius: 0.25em;background-color: #f0f8ff;}#sk-container-id-3 input.sk-toggleable__control:checked~div.sk-toggleable__content {max-height: 200px;max-width: 100%;overflow: auto;}#sk-container-id-3 input.sk-toggleable__control:checked~label.sk-toggleable__label-arrow:before {content: \"▾\";}#sk-container-id-3 div.sk-estimator input.sk-toggleable__control:checked~label.sk-toggleable__label {background-color: #d4ebff;}#sk-container-id-3 div.sk-label input.sk-toggleable__control:checked~label.sk-toggleable__label {background-color: #d4ebff;}#sk-container-id-3 input.sk-hidden--visually {border: 0;clip: rect(1px 1px 1px 1px);clip: rect(1px, 1px, 1px, 1px);height: 1px;margin: -1px;overflow: hidden;padding: 0;position: absolute;width: 1px;}#sk-container-id-3 div.sk-estimator {font-family: monospace;background-color: #f0f8ff;border: 1px dotted black;border-radius: 0.25em;box-sizing: border-box;margin-bottom: 0.5em;}#sk-container-id-3 div.sk-estimator:hover {background-color: #d4ebff;}#sk-container-id-3 div.sk-parallel-item::after {content: \"\";width: 100%;border-bottom: 1px solid gray;flex-grow: 1;}#sk-container-id-3 div.sk-label:hover label.sk-toggleable__label {background-color: #d4ebff;}#sk-container-id-3 div.sk-serial::before {content: \"\";position: absolute;border-left: 1px solid gray;box-sizing: border-box;top: 0;bottom: 0;left: 50%;z-index: 0;}#sk-container-id-3 div.sk-serial {display: flex;flex-direction: column;align-items: center;background-color: white;padding-right: 0.2em;padding-left: 0.2em;position: relative;}#sk-container-id-3 div.sk-item {position: relative;z-index: 1;}#sk-container-id-3 div.sk-parallel {display: flex;align-items: stretch;justify-content: center;background-color: white;position: relative;}#sk-container-id-3 div.sk-item::before, #sk-container-id-3 div.sk-parallel-item::before {content: \"\";position: absolute;border-left: 1px solid gray;box-sizing: border-box;top: 0;bottom: 0;left: 50%;z-index: -1;}#sk-container-id-3 div.sk-parallel-item {display: flex;flex-direction: column;z-index: 1;position: relative;background-color: white;}#sk-container-id-3 div.sk-parallel-item:first-child::after {align-self: flex-end;width: 50%;}#sk-container-id-3 div.sk-parallel-item:last-child::after {align-self: flex-start;width: 50%;}#sk-container-id-3 div.sk-parallel-item:only-child::after {width: 0;}#sk-container-id-3 div.sk-dashed-wrapped {border: 1px dashed gray;margin: 0 0.4em 0.5em 0.4em;box-sizing: border-box;padding-bottom: 0.4em;background-color: white;}#sk-container-id-3 div.sk-label label {font-family: monospace;font-weight: bold;display: inline-block;line-height: 1.2em;}#sk-container-id-3 div.sk-label-container {text-align: center;}#sk-container-id-3 div.sk-container {/* jupyter's `normalize.less` sets `[hidden] { display: none; }` but bootstrap.min.css set `[hidden] { display: none !important; }` so we also need the `!important` here to be able to override the default hidden behavior on the sphinx rendered scikit-learn.org. See: https://github.com/scikit-learn/scikit-learn/issues/21755 */display: inline-block !important;position: relative;}#sk-container-id-3 div.sk-text-repr-fallback {display: none;}</style><div id=\"sk-container-id-3\" class=\"sk-top-container\"><div class=\"sk-text-repr-fallback\"><pre>XGBClassifier(base_score=0.5, booster=&#x27;gbtree&#x27;, callbacks=None,\n",
       "              colsample_bylevel=1, colsample_bynode=1, colsample_bytree=0.3,\n",
       "              early_stopping_rounds=None, enable_categorical=False,\n",
       "              eval_metric=None, feature_types=None, gamma=0, gpu_id=-1,\n",
       "              grow_policy=&#x27;depthwise&#x27;, importance_type=None,\n",
       "              interaction_constraints=&#x27;&#x27;, learning_rate=0.1, max_bin=256,\n",
       "              max_cat_threshold=64, max_cat_to_onehot=4, max_delta_step=0,\n",
       "              max_depth=2, max_leaves=0, min_child_weight=4, missing=nan,\n",
       "              monotone_constraints=&#x27;()&#x27;, n_estimators=150, n_jobs=0,\n",
       "              num_parallel_tree=1, predictor=&#x27;auto&#x27;, random_state=0, ...)</pre><b>In a Jupyter environment, please rerun this cell to show the HTML representation or trust the notebook. <br />On GitHub, the HTML representation is unable to render, please try loading this page with nbviewer.org.</b></div><div class=\"sk-container\" hidden><div class=\"sk-item\"><div class=\"sk-estimator sk-toggleable\"><input class=\"sk-toggleable__control sk-hidden--visually\" id=\"sk-estimator-id-3\" type=\"checkbox\" checked><label for=\"sk-estimator-id-3\" class=\"sk-toggleable__label sk-toggleable__label-arrow\">XGBClassifier</label><div class=\"sk-toggleable__content\"><pre>XGBClassifier(base_score=0.5, booster=&#x27;gbtree&#x27;, callbacks=None,\n",
       "              colsample_bylevel=1, colsample_bynode=1, colsample_bytree=0.3,\n",
       "              early_stopping_rounds=None, enable_categorical=False,\n",
       "              eval_metric=None, feature_types=None, gamma=0, gpu_id=-1,\n",
       "              grow_policy=&#x27;depthwise&#x27;, importance_type=None,\n",
       "              interaction_constraints=&#x27;&#x27;, learning_rate=0.1, max_bin=256,\n",
       "              max_cat_threshold=64, max_cat_to_onehot=4, max_delta_step=0,\n",
       "              max_depth=2, max_leaves=0, min_child_weight=4, missing=nan,\n",
       "              monotone_constraints=&#x27;()&#x27;, n_estimators=150, n_jobs=0,\n",
       "              num_parallel_tree=1, predictor=&#x27;auto&#x27;, random_state=0, ...)</pre></div></div></div></div></div>"
      ],
      "text/plain": [
       "XGBClassifier(base_score=0.5, booster='gbtree', callbacks=None,\n",
       "              colsample_bylevel=1, colsample_bynode=1, colsample_bytree=0.3,\n",
       "              early_stopping_rounds=None, enable_categorical=False,\n",
       "              eval_metric=None, feature_types=None, gamma=0, gpu_id=-1,\n",
       "              grow_policy='depthwise', importance_type=None,\n",
       "              interaction_constraints='', learning_rate=0.1, max_bin=256,\n",
       "              max_cat_threshold=64, max_cat_to_onehot=4, max_delta_step=0,\n",
       "              max_depth=2, max_leaves=0, min_child_weight=4, missing=nan,\n",
       "              monotone_constraints='()', n_estimators=150, n_jobs=0,\n",
       "              num_parallel_tree=1, predictor='auto', random_state=0, ...)"
      ]
     },
     "execution_count": 51,
     "metadata": {},
     "output_type": "execute_result"
    }
   ],
   "source": [
    "estimator = XGBClassifier()\n",
    "param_grid = {'n_estimators': [100, 150],\n",
    "              'max_depth': [1, 2],\n",
    "              'learning_rate': [0.1, 0.01],\n",
    "              'min_child_weight': [3, 4],\n",
    "              'subsample': [0.6, 0.7],\n",
    "              'colsample_bytree': [0.2, 0.3]}\n",
    "rscv = RandomizedSearchCV(estimator,param_grid,cv = 5)\n",
    "rscv.fit(x_train,y_train)\n",
    "rscv.best_estimator_"
   ]
  },
  {
   "cell_type": "code",
   "execution_count": 52,
   "id": "8bf768a4",
   "metadata": {
    "execution": {
     "iopub.execute_input": "2023-01-29T23:03:09.905341Z",
     "iopub.status.busy": "2023-01-29T23:03:09.904961Z",
     "iopub.status.idle": "2023-01-29T23:03:09.912057Z",
     "shell.execute_reply": "2023-01-29T23:03:09.910890Z"
    },
    "papermill": {
     "duration": 0.026117,
     "end_time": "2023-01-29T23:03:09.914050",
     "exception": false,
     "start_time": "2023-01-29T23:03:09.887933",
     "status": "completed"
    },
    "tags": []
   },
   "outputs": [
    {
     "data": {
      "text/plain": [
       "{'subsample': 0.6,\n",
       " 'n_estimators': 150,\n",
       " 'min_child_weight': 4,\n",
       " 'max_depth': 2,\n",
       " 'learning_rate': 0.1,\n",
       " 'colsample_bytree': 0.3}"
      ]
     },
     "execution_count": 52,
     "metadata": {},
     "output_type": "execute_result"
    }
   ],
   "source": [
    "rscv.best_params_"
   ]
  },
  {
   "cell_type": "code",
   "execution_count": 53,
   "id": "e335bd59",
   "metadata": {
    "execution": {
     "iopub.execute_input": "2023-01-29T23:03:09.945186Z",
     "iopub.status.busy": "2023-01-29T23:03:09.944149Z",
     "iopub.status.idle": "2023-01-29T23:03:10.291204Z",
     "shell.execute_reply": "2023-01-29T23:03:10.290282Z"
    },
    "papermill": {
     "duration": 0.365127,
     "end_time": "2023-01-29T23:03:10.293742",
     "exception": false,
     "start_time": "2023-01-29T23:03:09.928615",
     "status": "completed"
    },
    "tags": []
   },
   "outputs": [
    {
     "data": {
      "text/html": [
       "<style>#sk-container-id-4 {color: black;background-color: white;}#sk-container-id-4 pre{padding: 0;}#sk-container-id-4 div.sk-toggleable {background-color: white;}#sk-container-id-4 label.sk-toggleable__label {cursor: pointer;display: block;width: 100%;margin-bottom: 0;padding: 0.3em;box-sizing: border-box;text-align: center;}#sk-container-id-4 label.sk-toggleable__label-arrow:before {content: \"▸\";float: left;margin-right: 0.25em;color: #696969;}#sk-container-id-4 label.sk-toggleable__label-arrow:hover:before {color: black;}#sk-container-id-4 div.sk-estimator:hover label.sk-toggleable__label-arrow:before {color: black;}#sk-container-id-4 div.sk-toggleable__content {max-height: 0;max-width: 0;overflow: hidden;text-align: left;background-color: #f0f8ff;}#sk-container-id-4 div.sk-toggleable__content pre {margin: 0.2em;color: black;border-radius: 0.25em;background-color: #f0f8ff;}#sk-container-id-4 input.sk-toggleable__control:checked~div.sk-toggleable__content {max-height: 200px;max-width: 100%;overflow: auto;}#sk-container-id-4 input.sk-toggleable__control:checked~label.sk-toggleable__label-arrow:before {content: \"▾\";}#sk-container-id-4 div.sk-estimator input.sk-toggleable__control:checked~label.sk-toggleable__label {background-color: #d4ebff;}#sk-container-id-4 div.sk-label input.sk-toggleable__control:checked~label.sk-toggleable__label {background-color: #d4ebff;}#sk-container-id-4 input.sk-hidden--visually {border: 0;clip: rect(1px 1px 1px 1px);clip: rect(1px, 1px, 1px, 1px);height: 1px;margin: -1px;overflow: hidden;padding: 0;position: absolute;width: 1px;}#sk-container-id-4 div.sk-estimator {font-family: monospace;background-color: #f0f8ff;border: 1px dotted black;border-radius: 0.25em;box-sizing: border-box;margin-bottom: 0.5em;}#sk-container-id-4 div.sk-estimator:hover {background-color: #d4ebff;}#sk-container-id-4 div.sk-parallel-item::after {content: \"\";width: 100%;border-bottom: 1px solid gray;flex-grow: 1;}#sk-container-id-4 div.sk-label:hover label.sk-toggleable__label {background-color: #d4ebff;}#sk-container-id-4 div.sk-serial::before {content: \"\";position: absolute;border-left: 1px solid gray;box-sizing: border-box;top: 0;bottom: 0;left: 50%;z-index: 0;}#sk-container-id-4 div.sk-serial {display: flex;flex-direction: column;align-items: center;background-color: white;padding-right: 0.2em;padding-left: 0.2em;position: relative;}#sk-container-id-4 div.sk-item {position: relative;z-index: 1;}#sk-container-id-4 div.sk-parallel {display: flex;align-items: stretch;justify-content: center;background-color: white;position: relative;}#sk-container-id-4 div.sk-item::before, #sk-container-id-4 div.sk-parallel-item::before {content: \"\";position: absolute;border-left: 1px solid gray;box-sizing: border-box;top: 0;bottom: 0;left: 50%;z-index: -1;}#sk-container-id-4 div.sk-parallel-item {display: flex;flex-direction: column;z-index: 1;position: relative;background-color: white;}#sk-container-id-4 div.sk-parallel-item:first-child::after {align-self: flex-end;width: 50%;}#sk-container-id-4 div.sk-parallel-item:last-child::after {align-self: flex-start;width: 50%;}#sk-container-id-4 div.sk-parallel-item:only-child::after {width: 0;}#sk-container-id-4 div.sk-dashed-wrapped {border: 1px dashed gray;margin: 0 0.4em 0.5em 0.4em;box-sizing: border-box;padding-bottom: 0.4em;background-color: white;}#sk-container-id-4 div.sk-label label {font-family: monospace;font-weight: bold;display: inline-block;line-height: 1.2em;}#sk-container-id-4 div.sk-label-container {text-align: center;}#sk-container-id-4 div.sk-container {/* jupyter's `normalize.less` sets `[hidden] { display: none; }` but bootstrap.min.css set `[hidden] { display: none !important; }` so we also need the `!important` here to be able to override the default hidden behavior on the sphinx rendered scikit-learn.org. See: https://github.com/scikit-learn/scikit-learn/issues/21755 */display: inline-block !important;position: relative;}#sk-container-id-4 div.sk-text-repr-fallback {display: none;}</style><div id=\"sk-container-id-4\" class=\"sk-top-container\"><div class=\"sk-text-repr-fallback\"><pre>XGBClassifier(base_score=0.5, booster=&#x27;gbtree&#x27;, callbacks=None,\n",
       "              colsample_bylevel=1, colsample_bynode=1, colsample_bytree=0.3,\n",
       "              early_stopping_rounds=None, enable_categorical=False,\n",
       "              eval_metric=None, feature_types=None, gamma=0, gpu_id=-1,\n",
       "              grow_policy=&#x27;depthwise&#x27;, importance_type=None,\n",
       "              interaction_constraints=&#x27;&#x27;, learning_rate=0.1, max_bin=256,\n",
       "              max_cat_threshold=64, max_cat_to_onehot=4, max_delta_step=0,\n",
       "              max_depth=2, max_leaves=0, min_child_weight=4, missing=nan,\n",
       "              monotone_constraints=&#x27;()&#x27;, n_estimators=150, n_jobs=0,\n",
       "              num_parallel_tree=1, predictor=&#x27;auto&#x27;, random_state=0, ...)</pre><b>In a Jupyter environment, please rerun this cell to show the HTML representation or trust the notebook. <br />On GitHub, the HTML representation is unable to render, please try loading this page with nbviewer.org.</b></div><div class=\"sk-container\" hidden><div class=\"sk-item\"><div class=\"sk-estimator sk-toggleable\"><input class=\"sk-toggleable__control sk-hidden--visually\" id=\"sk-estimator-id-4\" type=\"checkbox\" checked><label for=\"sk-estimator-id-4\" class=\"sk-toggleable__label sk-toggleable__label-arrow\">XGBClassifier</label><div class=\"sk-toggleable__content\"><pre>XGBClassifier(base_score=0.5, booster=&#x27;gbtree&#x27;, callbacks=None,\n",
       "              colsample_bylevel=1, colsample_bynode=1, colsample_bytree=0.3,\n",
       "              early_stopping_rounds=None, enable_categorical=False,\n",
       "              eval_metric=None, feature_types=None, gamma=0, gpu_id=-1,\n",
       "              grow_policy=&#x27;depthwise&#x27;, importance_type=None,\n",
       "              interaction_constraints=&#x27;&#x27;, learning_rate=0.1, max_bin=256,\n",
       "              max_cat_threshold=64, max_cat_to_onehot=4, max_delta_step=0,\n",
       "              max_depth=2, max_leaves=0, min_child_weight=4, missing=nan,\n",
       "              monotone_constraints=&#x27;()&#x27;, n_estimators=150, n_jobs=0,\n",
       "              num_parallel_tree=1, predictor=&#x27;auto&#x27;, random_state=0, ...)</pre></div></div></div></div></div>"
      ],
      "text/plain": [
       "XGBClassifier(base_score=0.5, booster='gbtree', callbacks=None,\n",
       "              colsample_bylevel=1, colsample_bynode=1, colsample_bytree=0.3,\n",
       "              early_stopping_rounds=None, enable_categorical=False,\n",
       "              eval_metric=None, feature_types=None, gamma=0, gpu_id=-1,\n",
       "              grow_policy='depthwise', importance_type=None,\n",
       "              interaction_constraints='', learning_rate=0.1, max_bin=256,\n",
       "              max_cat_threshold=64, max_cat_to_onehot=4, max_delta_step=0,\n",
       "              max_depth=2, max_leaves=0, min_child_weight=4, missing=nan,\n",
       "              monotone_constraints='()', n_estimators=150, n_jobs=0,\n",
       "              num_parallel_tree=1, predictor='auto', random_state=0, ...)"
      ]
     },
     "execution_count": 53,
     "metadata": {},
     "output_type": "execute_result"
    }
   ],
   "source": [
    "xgb = XGBClassifier(subsample = 0.6, n_estimators= 150,\n",
    "                    min_child_weight = 4, max_depth= 2,\n",
    "                    learning_rate= 0.1, colsample_bytree= 0.3)\n",
    "xgb.fit(x_train,y_train)"
   ]
  },
  {
   "cell_type": "code",
   "execution_count": 54,
   "id": "19a660b4",
   "metadata": {
    "execution": {
     "iopub.execute_input": "2023-01-29T23:03:10.325822Z",
     "iopub.status.busy": "2023-01-29T23:03:10.325159Z",
     "iopub.status.idle": "2023-01-29T23:03:10.345950Z",
     "shell.execute_reply": "2023-01-29T23:03:10.344909Z"
    },
    "papermill": {
     "duration": 0.03903,
     "end_time": "2023-01-29T23:03:10.348447",
     "exception": false,
     "start_time": "2023-01-29T23:03:10.309417",
     "status": "completed"
    },
    "tags": []
   },
   "outputs": [
    {
     "name": "stdout",
     "output_type": "stream",
     "text": [
      "The accuracy of the model: 83.00561797752809\n",
      "The classification report:\n",
      "               precision    recall  f1-score   support\n",
      "\n",
      "           0       0.83      0.91      0.87       439\n",
      "           1       0.83      0.70      0.76       273\n",
      "\n",
      "    accuracy                           0.83       712\n",
      "   macro avg       0.83      0.80      0.81       712\n",
      "weighted avg       0.83      0.83      0.83       712\n",
      "\n"
     ]
    }
   ],
   "source": [
    "# checking the performance of the model at Training time\n",
    "y_pr_train = xgb.predict(x_train)\n",
    "acc_train = accuracy_score(y_train,y_pr_train)\n",
    "class_re = classification_report(y_train,y_pr_train)\n",
    "print(\"The accuracy of the model:\",(acc_train)*100)\n",
    "print(\"The classification report:\\n\",class_re)"
   ]
  },
  {
   "cell_type": "code",
   "execution_count": 55,
   "id": "6d0cf599",
   "metadata": {
    "execution": {
     "iopub.execute_input": "2023-01-29T23:03:10.381982Z",
     "iopub.status.busy": "2023-01-29T23:03:10.381627Z",
     "iopub.status.idle": "2023-01-29T23:03:10.401495Z",
     "shell.execute_reply": "2023-01-29T23:03:10.400622Z"
    },
    "papermill": {
     "duration": 0.039357,
     "end_time": "2023-01-29T23:03:10.404008",
     "exception": false,
     "start_time": "2023-01-29T23:03:10.364651",
     "status": "completed"
    },
    "tags": []
   },
   "outputs": [
    {
     "name": "stdout",
     "output_type": "stream",
     "text": [
      "The accuracy of the model: 81.56424581005587\n",
      "The classification report:\n",
      "               precision    recall  f1-score   support\n",
      "\n",
      "           0       0.81      0.92      0.86       110\n",
      "           1       0.83      0.65      0.73        69\n",
      "\n",
      "    accuracy                           0.82       179\n",
      "   macro avg       0.82      0.79      0.80       179\n",
      "weighted avg       0.82      0.82      0.81       179\n",
      "\n"
     ]
    }
   ],
   "source": [
    "# checking the performance of the model at Testing time\n",
    "y_pr_test = xgb.predict(x_test)\n",
    "acc_test = accuracy_score(y_test,y_pr_test)\n",
    "class_re1 = classification_report(y_test,y_pr_test)\n",
    "print(\"The accuracy of the model:\",(acc_test)*100)\n",
    "print(\"The classification report:\\n\",class_re1)"
   ]
  },
  {
   "cell_type": "markdown",
   "id": "3d350a58",
   "metadata": {
    "papermill": {
     "duration": 0.014712,
     "end_time": "2023-01-29T23:03:10.436133",
     "exception": false,
     "start_time": "2023-01-29T23:03:10.421421",
     "status": "completed"
    },
    "tags": []
   },
   "source": [
    "**exporting the prediction**"
   ]
  },
  {
   "cell_type": "code",
   "execution_count": null,
   "id": "d533c3d6",
   "metadata": {},
   "outputs": [],
   "source": [
    "# matching the column names with x_train\n",
    "test_df = test_df[['Pclass', 'Age', 'SibSp', 'Parch', 'male', 'female', 'S', 'C', 'Q']]"
   ]
  },
  {
   "cell_type": "code",
   "execution_count": 59,
   "id": "cd5d843b",
   "metadata": {
    "execution": {
     "iopub.execute_input": "2023-01-29T23:03:10.469042Z",
     "iopub.status.busy": "2023-01-29T23:03:10.467945Z",
     "iopub.status.idle": "2023-01-29T23:03:10.487125Z",
     "shell.execute_reply": "2023-01-29T23:03:10.486161Z"
    },
    "papermill": {
     "duration": 0.037998,
     "end_time": "2023-01-29T23:03:10.489537",
     "exception": false,
     "start_time": "2023-01-29T23:03:10.451539",
     "status": "completed"
    },
    "tags": []
   },
   "outputs": [],
   "source": [
    "final_prediction = xgb.predict(test_df)\n",
    "final_df = pd.DataFrame({\"PassengerId\": df_tr[\"PassengerId\"],\"Survived\": final_prediction})\n",
    "final_df.to_csv(\"submission_shaumil.csv\",index = False)"
   ]
  },
  {
   "cell_type": "code",
   "execution_count": 61,
   "id": "b281d215",
   "metadata": {
    "execution": {
     "iopub.execute_input": "2023-01-29T23:03:10.523074Z",
     "iopub.status.busy": "2023-01-29T23:03:10.522654Z",
     "iopub.status.idle": "2023-01-29T23:03:10.534508Z",
     "shell.execute_reply": "2023-01-29T23:03:10.533620Z"
    },
    "papermill": {
     "duration": 0.030629,
     "end_time": "2023-01-29T23:03:10.536532",
     "exception": false,
     "start_time": "2023-01-29T23:03:10.505903",
     "status": "completed"
    },
    "tags": []
   },
   "outputs": [
    {
     "data": {
      "text/html": [
       "<div>\n",
       "<style scoped>\n",
       "    .dataframe tbody tr th:only-of-type {\n",
       "        vertical-align: middle;\n",
       "    }\n",
       "\n",
       "    .dataframe tbody tr th {\n",
       "        vertical-align: top;\n",
       "    }\n",
       "\n",
       "    .dataframe thead th {\n",
       "        text-align: right;\n",
       "    }\n",
       "</style>\n",
       "<table border=\"1\" class=\"dataframe\">\n",
       "  <thead>\n",
       "    <tr style=\"text-align: right;\">\n",
       "      <th></th>\n",
       "      <th>PassengerId</th>\n",
       "      <th>Survived</th>\n",
       "    </tr>\n",
       "  </thead>\n",
       "  <tbody>\n",
       "    <tr>\n",
       "      <th>0</th>\n",
       "      <td>892</td>\n",
       "      <td>0</td>\n",
       "    </tr>\n",
       "    <tr>\n",
       "      <th>1</th>\n",
       "      <td>893</td>\n",
       "      <td>1</td>\n",
       "    </tr>\n",
       "    <tr>\n",
       "      <th>2</th>\n",
       "      <td>894</td>\n",
       "      <td>0</td>\n",
       "    </tr>\n",
       "    <tr>\n",
       "      <th>3</th>\n",
       "      <td>895</td>\n",
       "      <td>0</td>\n",
       "    </tr>\n",
       "    <tr>\n",
       "      <th>4</th>\n",
       "      <td>896</td>\n",
       "      <td>1</td>\n",
       "    </tr>\n",
       "  </tbody>\n",
       "</table>\n",
       "</div>"
      ],
      "text/plain": [
       "   PassengerId  Survived\n",
       "0          892         0\n",
       "1          893         1\n",
       "2          894         0\n",
       "3          895         0\n",
       "4          896         1"
      ]
     },
     "execution_count": 61,
     "metadata": {},
     "output_type": "execute_result"
    }
   ],
   "source": [
    "submitted = pd.read_csv(\"submission_shaumil.csv\")\n",
    "submitted.head()\n"
   ]
  }
 ],
 "metadata": {
  "kernelspec": {
   "display_name": "Python 3 (ipykernel)",
   "language": "python",
   "name": "python3"
  },
  "language_info": {
   "codemirror_mode": {
    "name": "ipython",
    "version": 3
   },
   "file_extension": ".py",
   "mimetype": "text/x-python",
   "name": "python",
   "nbconvert_exporter": "python",
   "pygments_lexer": "ipython3",
   "version": "3.10.5"
  },
  "papermill": {
   "default_parameters": {},
   "duration": 31.151441,
   "end_time": "2023-01-29T23:03:11.373364",
   "environment_variables": {},
   "exception": null,
   "input_path": "__notebook__.ipynb",
   "output_path": "__notebook__.ipynb",
   "parameters": {},
   "start_time": "2023-01-29T23:02:40.221923",
   "version": "2.3.4"
  }
 },
 "nbformat": 4,
 "nbformat_minor": 5
}
